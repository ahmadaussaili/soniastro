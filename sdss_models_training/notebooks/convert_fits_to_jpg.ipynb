{
 "cells": [
  {
   "cell_type": "code",
   "execution_count": 5,
   "metadata": {},
   "outputs": [],
   "source": [
    "from astroquery.sdss import SDSS\n",
    "from astropy import coordinates as coords\n",
    "from astropy.io import fits\n",
    "import numpy as np\n",
    "from PIL import Image\n",
    "import matplotlib.patches as patches\n",
    "import matplotlib.pyplot as plt\n",
    "from astropy.table import Table,vstack,Column,unique\n",
    "import copy\n",
    "import os.path\n",
    "from astropy.visualization import make_lupton_rgb\n",
    "from reproject import reproject_interp\n",
    "from __future__ import print_function"
   ]
  },
  {
   "cell_type": "code",
   "execution_count": 22,
   "metadata": {},
   "outputs": [],
   "source": [
    "# Convert the fits images to jpg images\n",
    "\n",
    "detected_fields = Table.read('tables/detected_fields_table.data',format='ascii')\n",
    "\n",
    "num_of_fields = len(detected_fields)\n",
    "\n",
    "for i in range(2):\n",
    "    g_band_file_name = 'fits_images/%s.g.fits'%(detected_fields['imageName'][i])\n",
    "    r_band_file_name = 'fits_images/%s.r.fits'%(detected_fields['imageName'][i])\n",
    "    i_band_file_name = 'fits_images/%s.i.fits'%(detected_fields['imageName'][i])\n",
    "    \n",
    "    jpg_file_name = 'jpg_images/%s.jpg'%(detected_fields['imageName'][i])\n",
    "    \n",
    "    g_band_image = fits.open(g_band_file_name)[0]\n",
    "    r_band_image = fits.open(r_band_file_name)[0]\n",
    "    i_band_image = fits.open(i_band_file_name)[0]\n",
    "    \n",
    "    r_band_image_data = r_band_image.data\n",
    "    \n",
    "    # The width and the height of the field image\n",
    "    image_width = r_band_image_data.shape[1]\n",
    "    image_height = r_band_image_data.shape[0]\n",
    "    \n",
    "    # Reproject the g_band and i_band images to be in the same projection as the r_band image.\n",
    "    # The footprint is an array that provides information on the footprint of the first image in\n",
    "    # the new reprojected image plane (essentially which pixels in the new image had a corresponding \n",
    "    # pixel in the old image.\n",
    "    g_band_image_data, g_band_image_footprint = reproject_interp(g_band_image, r_band_image.header)\n",
    "    i_band_image_data, i_band_image_footprint = reproject_interp(i_band_image, r_band_image.header)\n",
    "    \n",
    "    # Return a Red/Green/Blue color image from up to 3 images using an asinh stretch.\n",
    "    make_lupton_rgb(i_band_image_data, r_band_image_data , g_band_image_data, Q=10, stretch=0.5, filename=jpg_file_name)"
   ]
  },
  {
   "cell_type": "code",
   "execution_count": null,
   "metadata": {},
   "outputs": [],
   "source": []
  }
 ],
 "metadata": {
  "kernelspec": {
   "display_name": "Python 2",
   "language": "python",
   "name": "python2"
  },
  "language_info": {
   "codemirror_mode": {
    "name": "ipython",
    "version": 2
   },
   "file_extension": ".py",
   "mimetype": "text/x-python",
   "name": "python",
   "nbconvert_exporter": "python",
   "pygments_lexer": "ipython2",
   "version": "2.7.16"
  }
 },
 "nbformat": 4,
 "nbformat_minor": 2
}
