{
 "cells": [
  {
   "cell_type": "code",
   "execution_count": 1,
   "metadata": {},
   "outputs": [],
   "source": [
    "import turicreate as tc"
   ]
  },
  {
   "cell_type": "code",
   "execution_count": 5,
   "metadata": {},
   "outputs": [],
   "source": [
    "# Load images (Note:'Not a JPEG file' errors are warnings, meaning those files will be skipped)\n",
    "data = tc.image_analysis.load_images('galaxy_morphology_dataset2', with_path=True)\n",
    "\n",
    "# From the path-name, create a label column\n",
    "data['label'] = data['path'].apply(lambda path: 'spiral' if '/spiral' in path \n",
    "                                   else ('merge' if '/merge' in path \n",
    "                                         else ('elliptical' if '/elliptical' in path \n",
    "                                               else 'edgeon')))\n",
    "\n",
    "# Save the data for future use\n",
    "data.save('galaxy-morphology.sframe')"
   ]
  },
  {
   "cell_type": "code",
   "execution_count": null,
   "metadata": {},
   "outputs": [],
   "source": [
    "# Load the data\n",
    "data =  tc.SFrame('galaxy-morphology.sframe')\n",
    "\n",
    "# Explore interactively\n",
    "data.explore()"
   ]
  },
  {
   "cell_type": "code",
   "execution_count": 9,
   "metadata": {
    "scrolled": true
   },
   "outputs": [
    {
     "data": {
      "text/html": [
       "<pre>Analyzing and extracting image features.</pre>"
      ],
      "text/plain": [
       "Analyzing and extracting image features."
      ]
     },
     "metadata": {},
     "output_type": "display_data"
    },
    {
     "data": {
      "text/html": [
       "<pre>+------------------+--------------+------------------+</pre>"
      ],
      "text/plain": [
       "+------------------+--------------+------------------+"
      ]
     },
     "metadata": {},
     "output_type": "display_data"
    },
    {
     "data": {
      "text/html": [
       "<pre>| Images Processed | Elapsed Time | Percent Complete |</pre>"
      ],
      "text/plain": [
       "| Images Processed | Elapsed Time | Percent Complete |"
      ]
     },
     "metadata": {},
     "output_type": "display_data"
    },
    {
     "data": {
      "text/html": [
       "<pre>+------------------+--------------+------------------+</pre>"
      ],
      "text/plain": [
       "+------------------+--------------+------------------+"
      ]
     },
     "metadata": {},
     "output_type": "display_data"
    },
    {
     "data": {
      "text/html": [
       "<pre>| 64               | 4.18s        | 6.25%            |</pre>"
      ],
      "text/plain": [
       "| 64               | 4.18s        | 6.25%            |"
      ]
     },
     "metadata": {},
     "output_type": "display_data"
    },
    {
     "data": {
      "text/html": [
       "<pre>| 128              | 7.89s        | 12.5%            |</pre>"
      ],
      "text/plain": [
       "| 128              | 7.89s        | 12.5%            |"
      ]
     },
     "metadata": {},
     "output_type": "display_data"
    },
    {
     "data": {
      "text/html": [
       "<pre>| 192              | 11.87s       | 18.75%           |</pre>"
      ],
      "text/plain": [
       "| 192              | 11.87s       | 18.75%           |"
      ]
     },
     "metadata": {},
     "output_type": "display_data"
    },
    {
     "data": {
      "text/html": [
       "<pre>| 256              | 15.72s       | 25%              |</pre>"
      ],
      "text/plain": [
       "| 256              | 15.72s       | 25%              |"
      ]
     },
     "metadata": {},
     "output_type": "display_data"
    },
    {
     "data": {
      "text/html": [
       "<pre>| 320              | 19.56s       | 31.25%           |</pre>"
      ],
      "text/plain": [
       "| 320              | 19.56s       | 31.25%           |"
      ]
     },
     "metadata": {},
     "output_type": "display_data"
    },
    {
     "data": {
      "text/html": [
       "<pre>| 448              | 26.88s       | 43.75%           |</pre>"
      ],
      "text/plain": [
       "| 448              | 26.88s       | 43.75%           |"
      ]
     },
     "metadata": {},
     "output_type": "display_data"
    },
    {
     "data": {
      "text/html": [
       "<pre>| 512              | 30.73s       | 50%              |</pre>"
      ],
      "text/plain": [
       "| 512              | 30.73s       | 50%              |"
      ]
     },
     "metadata": {},
     "output_type": "display_data"
    },
    {
     "data": {
      "text/html": [
       "<pre>| 576              | 34.41s       | 56.25%           |</pre>"
      ],
      "text/plain": [
       "| 576              | 34.41s       | 56.25%           |"
      ]
     },
     "metadata": {},
     "output_type": "display_data"
    },
    {
     "data": {
      "text/html": [
       "<pre>| 640              | 38.14s       | 62.5%            |</pre>"
      ],
      "text/plain": [
       "| 640              | 38.14s       | 62.5%            |"
      ]
     },
     "metadata": {},
     "output_type": "display_data"
    },
    {
     "data": {
      "text/html": [
       "<pre>| 704              | 42.01s       | 68.75%           |</pre>"
      ],
      "text/plain": [
       "| 704              | 42.01s       | 68.75%           |"
      ]
     },
     "metadata": {},
     "output_type": "display_data"
    },
    {
     "data": {
      "text/html": [
       "<pre>| 768              | 45.92s       | 75%              |</pre>"
      ],
      "text/plain": [
       "| 768              | 45.92s       | 75%              |"
      ]
     },
     "metadata": {},
     "output_type": "display_data"
    },
    {
     "data": {
      "text/html": [
       "<pre>| 832              | 49.90s       | 81.25%           |</pre>"
      ],
      "text/plain": [
       "| 832              | 49.90s       | 81.25%           |"
      ]
     },
     "metadata": {},
     "output_type": "display_data"
    },
    {
     "data": {
      "text/html": [
       "<pre>| 896              | 52.06s       | 87.5%            |</pre>"
      ],
      "text/plain": [
       "| 896              | 52.06s       | 87.5%            |"
      ]
     },
     "metadata": {},
     "output_type": "display_data"
    },
    {
     "data": {
      "text/html": [
       "<pre>| 960              | 55.81s       | 93.75%           |</pre>"
      ],
      "text/plain": [
       "| 960              | 55.81s       | 93.75%           |"
      ]
     },
     "metadata": {},
     "output_type": "display_data"
    },
    {
     "data": {
      "text/html": [
       "<pre>| 997              | 59.58s       | 100%             |</pre>"
      ],
      "text/plain": [
       "| 997              | 59.58s       | 100%             |"
      ]
     },
     "metadata": {},
     "output_type": "display_data"
    },
    {
     "data": {
      "text/html": [
       "<pre>+------------------+--------------+------------------+</pre>"
      ],
      "text/plain": [
       "+------------------+--------------+------------------+"
      ]
     },
     "metadata": {},
     "output_type": "display_data"
    },
    {
     "name": "stdout",
     "output_type": "stream",
     "text": [
      "PROGRESS: Creating a validation set from 5 percent of training data. This may take a while.\n",
      "          You can set ``validation_set=None`` to disable validation tracking.\n",
      "\n"
     ]
    },
    {
     "data": {
      "text/html": [
       "<pre>Logistic regression:</pre>"
      ],
      "text/plain": [
       "Logistic regression:"
      ]
     },
     "metadata": {},
     "output_type": "display_data"
    },
    {
     "data": {
      "text/html": [
       "<pre>--------------------------------------------------------</pre>"
      ],
      "text/plain": [
       "--------------------------------------------------------"
      ]
     },
     "metadata": {},
     "output_type": "display_data"
    },
    {
     "data": {
      "text/html": [
       "<pre>Number of examples          : 947</pre>"
      ],
      "text/plain": [
       "Number of examples          : 947"
      ]
     },
     "metadata": {},
     "output_type": "display_data"
    },
    {
     "data": {
      "text/html": [
       "<pre>Number of classes           : 4</pre>"
      ],
      "text/plain": [
       "Number of classes           : 4"
      ]
     },
     "metadata": {},
     "output_type": "display_data"
    },
    {
     "data": {
      "text/html": [
       "<pre>Number of feature columns   : 1</pre>"
      ],
      "text/plain": [
       "Number of feature columns   : 1"
      ]
     },
     "metadata": {},
     "output_type": "display_data"
    },
    {
     "data": {
      "text/html": [
       "<pre>Number of unpacked features : 2048</pre>"
      ],
      "text/plain": [
       "Number of unpacked features : 2048"
      ]
     },
     "metadata": {},
     "output_type": "display_data"
    },
    {
     "data": {
      "text/html": [
       "<pre>Number of coefficients      : 6147</pre>"
      ],
      "text/plain": [
       "Number of coefficients      : 6147"
      ]
     },
     "metadata": {},
     "output_type": "display_data"
    },
    {
     "data": {
      "text/html": [
       "<pre>Starting L-BFGS</pre>"
      ],
      "text/plain": [
       "Starting L-BFGS"
      ]
     },
     "metadata": {},
     "output_type": "display_data"
    },
    {
     "data": {
      "text/html": [
       "<pre>--------------------------------------------------------</pre>"
      ],
      "text/plain": [
       "--------------------------------------------------------"
      ]
     },
     "metadata": {},
     "output_type": "display_data"
    },
    {
     "data": {
      "text/html": [
       "<pre>+-----------+----------+-----------+--------------+-------------------+---------------------+</pre>"
      ],
      "text/plain": [
       "+-----------+----------+-----------+--------------+-------------------+---------------------+"
      ]
     },
     "metadata": {},
     "output_type": "display_data"
    },
    {
     "data": {
      "text/html": [
       "<pre>| Iteration | Passes   | Step size | Elapsed Time | Training Accuracy | Validation Accuracy |</pre>"
      ],
      "text/plain": [
       "| Iteration | Passes   | Step size | Elapsed Time | Training Accuracy | Validation Accuracy |"
      ]
     },
     "metadata": {},
     "output_type": "display_data"
    },
    {
     "data": {
      "text/html": [
       "<pre>+-----------+----------+-----------+--------------+-------------------+---------------------+</pre>"
      ],
      "text/plain": [
       "+-----------+----------+-----------+--------------+-------------------+---------------------+"
      ]
     },
     "metadata": {},
     "output_type": "display_data"
    },
    {
     "data": {
      "text/html": [
       "<pre>| 0         | 4        | 0.250000  | 0.129285     | 0.633580          | 0.660000            |</pre>"
      ],
      "text/plain": [
       "| 0         | 4        | 0.250000  | 0.129285     | 0.633580          | 0.660000            |"
      ]
     },
     "metadata": {},
     "output_type": "display_data"
    },
    {
     "data": {
      "text/html": [
       "<pre>| 1         | 6        | 0.250000  | 0.244944     | 0.771911          | 0.680000            |</pre>"
      ],
      "text/plain": [
       "| 1         | 6        | 0.250000  | 0.244944     | 0.771911          | 0.680000            |"
      ]
     },
     "metadata": {},
     "output_type": "display_data"
    },
    {
     "data": {
      "text/html": [
       "<pre>| 2         | 7        | 0.312500  | 0.340487     | 0.785639          | 0.680000            |</pre>"
      ],
      "text/plain": [
       "| 2         | 7        | 0.312500  | 0.340487     | 0.785639          | 0.680000            |"
      ]
     },
     "metadata": {},
     "output_type": "display_data"
    },
    {
     "data": {
      "text/html": [
       "<pre>| 3         | 11       | 0.937500  | 0.511933     | 0.825766          | 0.800000            |</pre>"
      ],
      "text/plain": [
       "| 3         | 11       | 0.937500  | 0.511933     | 0.825766          | 0.800000            |"
      ]
     },
     "metadata": {},
     "output_type": "display_data"
    },
    {
     "data": {
      "text/html": [
       "<pre>| 4         | 13       | 1.000000  | 0.632896     | 0.844773          | 0.840000            |</pre>"
      ],
      "text/plain": [
       "| 4         | 13       | 1.000000  | 0.632896     | 0.844773          | 0.840000            |"
      ]
     },
     "metadata": {},
     "output_type": "display_data"
    },
    {
     "data": {
      "text/html": [
       "<pre>| 9         | 24       | 1.000000  | 1.223935     | 0.908131          | 0.940000            |</pre>"
      ],
      "text/plain": [
       "| 9         | 24       | 1.000000  | 1.223935     | 0.908131          | 0.940000            |"
      ]
     },
     "metadata": {},
     "output_type": "display_data"
    },
    {
     "data": {
      "text/html": [
       "<pre>+-----------+----------+-----------+--------------+-------------------+---------------------+</pre>"
      ],
      "text/plain": [
       "+-----------+----------+-----------+--------------+-------------------+---------------------+"
      ]
     },
     "metadata": {},
     "output_type": "display_data"
    },
    {
     "name": "stdout",
     "output_type": "stream",
     "text": [
      "Accuracy: 0.854251\n",
      "Precision: 0.829791 | Recall: 0.836040\n",
      "F1 score: 0.826372\n"
     ]
    }
   ],
   "source": [
    "# Load the data\n",
    "data =  tc.SFrame('galaxy-morphology.sframe')\n",
    "\n",
    "# Make a train-test split\n",
    "train_data, test_data = data.random_split(0.8)\n",
    "\n",
    "# Create the model\n",
    "model = tc.image_classifier.create(train_data, target='label', class_weights = 'auto')\n",
    "\n",
    "# Save predictions to an SArray\n",
    "predictions = model.predict(test_data)\n",
    "\n",
    "# Evaluate the model and print the results\n",
    "# metrics = model.evaluate(test_data)\n",
    "accuracy = tc.evaluation.accuracy(test_data['label'], predictions)\n",
    "pr_score = tc.evaluation.precision(test_data['label'], predictions)\n",
    "rec_score = tc.evaluation.recall(test_data['label'], predictions)\n",
    "f1_score = tc.evaluation.f1_score(test_data['label'], predictions)\n",
    "print(\"Accuracy: %f\"%(accuracy))\n",
    "print(\"Precision: %f | Recall: %f\"%(pr_score, rec_score))\n",
    "print(\"F1 score: %f\"%(f1_score))\n",
    "\n",
    "# Save the model for later use in Turi Create\n",
    "model.save('galaxy-morphology.model')\n",
    "\n",
    "# Export for use in Core ML\n",
    "model.export_coreml('GalaxyMorphologyClassifier.mlmodel')"
   ]
  },
  {
   "cell_type": "code",
   "execution_count": null,
   "metadata": {},
   "outputs": [],
   "source": [
    "# Evaluat on a small set of images\n",
    "\n",
    "# Load images (Note:'Not a JPEG file' errors are warnings, meaning those files will be skipped)\n",
    "testing_data = tc.image_analysis.load_images('galaxy_morphology_testing_data', with_path=True)\n",
    "\n",
    "# From the path-name, create a label column\n",
    "# From the path-name, create a label column\n",
    "testing_data['label'] = testing_data['path'].apply(lambda path: 'spiral' if '/spiral' in path \n",
    "                                                   else ('merge' if '/merge' in path \n",
    "                                                         else ('elliptical' if '/elliptical' in path \n",
    "                                                               else 'edgeon')))\n",
    "\n",
    "# Save the data for future use\n",
    "testing_data.save('galaxy-morphology-testing.sframe')\n",
    "\n",
    "# Load the data\n",
    "testing_data =  tc.SFrame('galaxy-morphology-testing.sframe')\n",
    "\n",
    "# Save predictions to an SArray\n",
    "testing_predictions = model.predict(testing_data)\n",
    "\n",
    "print(testing_data)\n",
    "print(testing_predictions)"
   ]
  }
 ],
 "metadata": {
  "kernelspec": {
   "display_name": "python3",
   "language": "python",
   "name": "python3"
  },
  "language_info": {
   "codemirror_mode": {
    "name": "ipython",
    "version": 2
   },
   "file_extension": ".py",
   "mimetype": "text/x-python",
   "name": "python",
   "nbconvert_exporter": "python",
   "pygments_lexer": "ipython2",
   "version": "2.7.16"
  }
 },
 "nbformat": 4,
 "nbformat_minor": 2
}
