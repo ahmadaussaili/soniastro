{
 "cells": [
  {
   "cell_type": "code",
   "execution_count": 1,
   "metadata": {},
   "outputs": [],
   "source": [
    "import turicreate as tc"
   ]
  },
  {
   "cell_type": "code",
   "execution_count": null,
   "metadata": {},
   "outputs": [],
   "source": [
    "# Load images (Note:'Not a JPEG file' errors are warnings, meaning those files will be skipped)\n",
    "data = tc.image_analysis.load_images('star_galaxy_dataset2', with_path=True)\n",
    "\n",
    "# From the path-name, create a label column\n",
    "data['label'] = data['path'].apply(lambda path: 'star' if '/stars' in path else 'galaxy')\n",
    "\n",
    "# Save the data for future use\n",
    "data.save('star-galaxy.sframe')"
   ]
  },
  {
   "cell_type": "code",
   "execution_count": null,
   "metadata": {},
   "outputs": [],
   "source": [
    "# Explore interactively\n",
    "#data.explore()"
   ]
  },
  {
   "cell_type": "code",
   "execution_count": 5,
   "metadata": {},
   "outputs": [
    {
     "data": {
      "text/html": [
       "<pre>Analyzing and extracting image features.</pre>"
      ],
      "text/plain": [
       "Analyzing and extracting image features."
      ]
     },
     "metadata": {},
     "output_type": "display_data"
    },
    {
     "data": {
      "text/html": [
       "<pre>+------------------+--------------+------------------+</pre>"
      ],
      "text/plain": [
       "+------------------+--------------+------------------+"
      ]
     },
     "metadata": {},
     "output_type": "display_data"
    },
    {
     "data": {
      "text/html": [
       "<pre>| Images Processed | Elapsed Time | Percent Complete |</pre>"
      ],
      "text/plain": [
       "| Images Processed | Elapsed Time | Percent Complete |"
      ]
     },
     "metadata": {},
     "output_type": "display_data"
    },
    {
     "data": {
      "text/html": [
       "<pre>+------------------+--------------+------------------+</pre>"
      ],
      "text/plain": [
       "+------------------+--------------+------------------+"
      ]
     },
     "metadata": {},
     "output_type": "display_data"
    },
    {
     "data": {
      "text/html": [
       "<pre>| 64               | 4.21s        | 0.5%             |</pre>"
      ],
      "text/plain": [
       "| 64               | 4.21s        | 0.5%             |"
      ]
     },
     "metadata": {},
     "output_type": "display_data"
    },
    {
     "data": {
      "text/html": [
       "<pre>| 128              | 7.83s        | 1.25%            |</pre>"
      ],
      "text/plain": [
       "| 128              | 7.83s        | 1.25%            |"
      ]
     },
     "metadata": {},
     "output_type": "display_data"
    },
    {
     "data": {
      "text/html": [
       "<pre>| 192              | 11.44s       | 2%               |</pre>"
      ],
      "text/plain": [
       "| 192              | 11.44s       | 2%               |"
      ]
     },
     "metadata": {},
     "output_type": "display_data"
    },
    {
     "data": {
      "text/html": [
       "<pre>| 256              | 15.08s       | 2.75%            |</pre>"
      ],
      "text/plain": [
       "| 256              | 15.08s       | 2.75%            |"
      ]
     },
     "metadata": {},
     "output_type": "display_data"
    },
    {
     "data": {
      "text/html": [
       "<pre>| 320              | 18.75s       | 3.5%             |</pre>"
      ],
      "text/plain": [
       "| 320              | 18.75s       | 3.5%             |"
      ]
     },
     "metadata": {},
     "output_type": "display_data"
    },
    {
     "data": {
      "text/html": [
       "<pre>| 448              | 25.99s       | 4.75%            |</pre>"
      ],
      "text/plain": [
       "| 448              | 25.99s       | 4.75%            |"
      ]
     },
     "metadata": {},
     "output_type": "display_data"
    },
    {
     "data": {
      "text/html": [
       "<pre>| 512              | 29.61s       | 5.5%             |</pre>"
      ],
      "text/plain": [
       "| 512              | 29.61s       | 5.5%             |"
      ]
     },
     "metadata": {},
     "output_type": "display_data"
    },
    {
     "data": {
      "text/html": [
       "<pre>| 576              | 33.22s       | 6.25%            |</pre>"
      ],
      "text/plain": [
       "| 576              | 33.22s       | 6.25%            |"
      ]
     },
     "metadata": {},
     "output_type": "display_data"
    },
    {
     "data": {
      "text/html": [
       "<pre>| 640              | 36.84s       | 7%               |</pre>"
      ],
      "text/plain": [
       "| 640              | 36.84s       | 7%               |"
      ]
     },
     "metadata": {},
     "output_type": "display_data"
    },
    {
     "data": {
      "text/html": [
       "<pre>| 704              | 40.45s       | 7.75%            |</pre>"
      ],
      "text/plain": [
       "| 704              | 40.45s       | 7.75%            |"
      ]
     },
     "metadata": {},
     "output_type": "display_data"
    },
    {
     "data": {
      "text/html": [
       "<pre>| 768              | 44.07s       | 8.5%             |</pre>"
      ],
      "text/plain": [
       "| 768              | 44.07s       | 8.5%             |"
      ]
     },
     "metadata": {},
     "output_type": "display_data"
    },
    {
     "data": {
      "text/html": [
       "<pre>| 832              | 47.68s       | 9%               |</pre>"
      ],
      "text/plain": [
       "| 832              | 47.68s       | 9%               |"
      ]
     },
     "metadata": {},
     "output_type": "display_data"
    },
    {
     "data": {
      "text/html": [
       "<pre>| 896              | 51.30s       | 9.75%            |</pre>"
      ],
      "text/plain": [
       "| 896              | 51.30s       | 9.75%            |"
      ]
     },
     "metadata": {},
     "output_type": "display_data"
    },
    {
     "data": {
      "text/html": [
       "<pre>| 960              | 54.91s       | 10.5%            |</pre>"
      ],
      "text/plain": [
       "| 960              | 54.91s       | 10.5%            |"
      ]
     },
     "metadata": {},
     "output_type": "display_data"
    },
    {
     "data": {
      "text/html": [
       "<pre>| 1024             | 58.52s       | 11.25%           |</pre>"
      ],
      "text/plain": [
       "| 1024             | 58.52s       | 11.25%           |"
      ]
     },
     "metadata": {},
     "output_type": "display_data"
    },
    {
     "data": {
      "text/html": [
       "<pre>| 1088             | 1m 2s        | 12%              |</pre>"
      ],
      "text/plain": [
       "| 1088             | 1m 2s        | 12%              |"
      ]
     },
     "metadata": {},
     "output_type": "display_data"
    },
    {
     "data": {
      "text/html": [
       "<pre>| 1152             | 1m 5s        | 12.75%           |</pre>"
      ],
      "text/plain": [
       "| 1152             | 1m 5s        | 12.75%           |"
      ]
     },
     "metadata": {},
     "output_type": "display_data"
    },
    {
     "data": {
      "text/html": [
       "<pre>| 1216             | 1m 9s        | 13.25%           |</pre>"
      ],
      "text/plain": [
       "| 1216             | 1m 9s        | 13.25%           |"
      ]
     },
     "metadata": {},
     "output_type": "display_data"
    },
    {
     "data": {
      "text/html": [
       "<pre>| 1280             | 1m 12s       | 14%              |</pre>"
      ],
      "text/plain": [
       "| 1280             | 1m 12s       | 14%              |"
      ]
     },
     "metadata": {},
     "output_type": "display_data"
    },
    {
     "data": {
      "text/html": [
       "<pre>| 1344             | 1m 16s       | 14.75%           |</pre>"
      ],
      "text/plain": [
       "| 1344             | 1m 16s       | 14.75%           |"
      ]
     },
     "metadata": {},
     "output_type": "display_data"
    },
    {
     "data": {
      "text/html": [
       "<pre>| 1408             | 1m 20s       | 15.5%            |</pre>"
      ],
      "text/plain": [
       "| 1408             | 1m 20s       | 15.5%            |"
      ]
     },
     "metadata": {},
     "output_type": "display_data"
    },
    {
     "data": {
      "text/html": [
       "<pre>| 1472             | 1m 23s       | 16.25%           |</pre>"
      ],
      "text/plain": [
       "| 1472             | 1m 23s       | 16.25%           |"
      ]
     },
     "metadata": {},
     "output_type": "display_data"
    },
    {
     "data": {
      "text/html": [
       "<pre>| 1536             | 1m 27s       | 17%              |</pre>"
      ],
      "text/plain": [
       "| 1536             | 1m 27s       | 17%              |"
      ]
     },
     "metadata": {},
     "output_type": "display_data"
    },
    {
     "data": {
      "text/html": [
       "<pre>| 1600             | 1m 31s       | 17.5%            |</pre>"
      ],
      "text/plain": [
       "| 1600             | 1m 31s       | 17.5%            |"
      ]
     },
     "metadata": {},
     "output_type": "display_data"
    },
    {
     "data": {
      "text/html": [
       "<pre>| 1664             | 1m 34s       | 18.25%           |</pre>"
      ],
      "text/plain": [
       "| 1664             | 1m 34s       | 18.25%           |"
      ]
     },
     "metadata": {},
     "output_type": "display_data"
    },
    {
     "data": {
      "text/html": [
       "<pre>| 1728             | 1m 38s       | 19%              |</pre>"
      ],
      "text/plain": [
       "| 1728             | 1m 38s       | 19%              |"
      ]
     },
     "metadata": {},
     "output_type": "display_data"
    },
    {
     "data": {
      "text/html": [
       "<pre>| 1792             | 1m 41s       | 19.75%           |</pre>"
      ],
      "text/plain": [
       "| 1792             | 1m 41s       | 19.75%           |"
      ]
     },
     "metadata": {},
     "output_type": "display_data"
    },
    {
     "data": {
      "text/html": [
       "<pre>| 1856             | 1m 45s       | 20.5%            |</pre>"
      ],
      "text/plain": [
       "| 1856             | 1m 45s       | 20.5%            |"
      ]
     },
     "metadata": {},
     "output_type": "display_data"
    },
    {
     "data": {
      "text/html": [
       "<pre>| 1920             | 1m 49s       | 21.25%           |</pre>"
      ],
      "text/plain": [
       "| 1920             | 1m 49s       | 21.25%           |"
      ]
     },
     "metadata": {},
     "output_type": "display_data"
    },
    {
     "data": {
      "text/html": [
       "<pre>| 1984             | 1m 52s       | 21.75%           |</pre>"
      ],
      "text/plain": [
       "| 1984             | 1m 52s       | 21.75%           |"
      ]
     },
     "metadata": {},
     "output_type": "display_data"
    },
    {
     "data": {
      "text/html": [
       "<pre>| 2048             | 1m 56s       | 22.5%            |</pre>"
      ],
      "text/plain": [
       "| 2048             | 1m 56s       | 22.5%            |"
      ]
     },
     "metadata": {},
     "output_type": "display_data"
    },
    {
     "data": {
      "text/html": [
       "<pre>| 2112             | 2m 0s        | 23.25%           |</pre>"
      ],
      "text/plain": [
       "| 2112             | 2m 0s        | 23.25%           |"
      ]
     },
     "metadata": {},
     "output_type": "display_data"
    },
    {
     "data": {
      "text/html": [
       "<pre>| 2176             | 2m 3s        | 24%              |</pre>"
      ],
      "text/plain": [
       "| 2176             | 2m 3s        | 24%              |"
      ]
     },
     "metadata": {},
     "output_type": "display_data"
    },
    {
     "data": {
      "text/html": [
       "<pre>| 2240             | 2m 7s        | 24.75%           |</pre>"
      ],
      "text/plain": [
       "| 2240             | 2m 7s        | 24.75%           |"
      ]
     },
     "metadata": {},
     "output_type": "display_data"
    },
    {
     "data": {
      "text/html": [
       "<pre>| 2304             | 2m 10s       | 25.5%            |</pre>"
      ],
      "text/plain": [
       "| 2304             | 2m 10s       | 25.5%            |"
      ]
     },
     "metadata": {},
     "output_type": "display_data"
    },
    {
     "data": {
      "text/html": [
       "<pre>| 2368             | 2m 14s       | 26%              |</pre>"
      ],
      "text/plain": [
       "| 2368             | 2m 14s       | 26%              |"
      ]
     },
     "metadata": {},
     "output_type": "display_data"
    },
    {
     "data": {
      "text/html": [
       "<pre>| 2432             | 2m 18s       | 26.75%           |</pre>"
      ],
      "text/plain": [
       "| 2432             | 2m 18s       | 26.75%           |"
      ]
     },
     "metadata": {},
     "output_type": "display_data"
    },
    {
     "data": {
      "text/html": [
       "<pre>| 2496             | 2m 21s       | 27.5%            |</pre>"
      ],
      "text/plain": [
       "| 2496             | 2m 21s       | 27.5%            |"
      ]
     },
     "metadata": {},
     "output_type": "display_data"
    },
    {
     "data": {
      "text/html": [
       "<pre>| 2560             | 2m 25s       | 28.25%           |</pre>"
      ],
      "text/plain": [
       "| 2560             | 2m 25s       | 28.25%           |"
      ]
     },
     "metadata": {},
     "output_type": "display_data"
    },
    {
     "data": {
      "text/html": [
       "<pre>| 2624             | 2m 29s       | 29%              |</pre>"
      ],
      "text/plain": [
       "| 2624             | 2m 29s       | 29%              |"
      ]
     },
     "metadata": {},
     "output_type": "display_data"
    },
    {
     "data": {
      "text/html": [
       "<pre>| 2688             | 2m 32s       | 29.75%           |</pre>"
      ],
      "text/plain": [
       "| 2688             | 2m 32s       | 29.75%           |"
      ]
     },
     "metadata": {},
     "output_type": "display_data"
    },
    {
     "data": {
      "text/html": [
       "<pre>| 2752             | 2m 36s       | 30.25%           |</pre>"
      ],
      "text/plain": [
       "| 2752             | 2m 36s       | 30.25%           |"
      ]
     },
     "metadata": {},
     "output_type": "display_data"
    },
    {
     "data": {
      "text/html": [
       "<pre>| 2816             | 2m 40s       | 31%              |</pre>"
      ],
      "text/plain": [
       "| 2816             | 2m 40s       | 31%              |"
      ]
     },
     "metadata": {},
     "output_type": "display_data"
    },
    {
     "data": {
      "text/html": [
       "<pre>| 2880             | 2m 43s       | 31.75%           |</pre>"
      ],
      "text/plain": [
       "| 2880             | 2m 43s       | 31.75%           |"
      ]
     },
     "metadata": {},
     "output_type": "display_data"
    },
    {
     "data": {
      "text/html": [
       "<pre>| 2944             | 2m 47s       | 32.5%            |</pre>"
      ],
      "text/plain": [
       "| 2944             | 2m 47s       | 32.5%            |"
      ]
     },
     "metadata": {},
     "output_type": "display_data"
    },
    {
     "data": {
      "text/html": [
       "<pre>| 3008             | 2m 51s       | 33.25%           |</pre>"
      ],
      "text/plain": [
       "| 3008             | 2m 51s       | 33.25%           |"
      ]
     },
     "metadata": {},
     "output_type": "display_data"
    },
    {
     "data": {
      "text/html": [
       "<pre>| 3072             | 2m 54s       | 34%              |</pre>"
      ],
      "text/plain": [
       "| 3072             | 2m 54s       | 34%              |"
      ]
     },
     "metadata": {},
     "output_type": "display_data"
    },
    {
     "data": {
      "text/html": [
       "<pre>| 3136             | 2m 58s       | 34.75%           |</pre>"
      ],
      "text/plain": [
       "| 3136             | 2m 58s       | 34.75%           |"
      ]
     },
     "metadata": {},
     "output_type": "display_data"
    },
    {
     "data": {
      "text/html": [
       "<pre>| 3200             | 3m 1s        | 35.25%           |</pre>"
      ],
      "text/plain": [
       "| 3200             | 3m 1s        | 35.25%           |"
      ]
     },
     "metadata": {},
     "output_type": "display_data"
    },
    {
     "data": {
      "text/html": [
       "<pre>| 3264             | 3m 5s        | 36%              |</pre>"
      ],
      "text/plain": [
       "| 3264             | 3m 5s        | 36%              |"
      ]
     },
     "metadata": {},
     "output_type": "display_data"
    },
    {
     "data": {
      "text/html": [
       "<pre>| 3328             | 3m 9s        | 36.75%           |</pre>"
      ],
      "text/plain": [
       "| 3328             | 3m 9s        | 36.75%           |"
      ]
     },
     "metadata": {},
     "output_type": "display_data"
    },
    {
     "data": {
      "text/html": [
       "<pre>| 3392             | 3m 13s       | 37.5%            |</pre>"
      ],
      "text/plain": [
       "| 3392             | 3m 13s       | 37.5%            |"
      ]
     },
     "metadata": {},
     "output_type": "display_data"
    },
    {
     "data": {
      "text/html": [
       "<pre>| 3456             | 3m 16s       | 38.25%           |</pre>"
      ],
      "text/plain": [
       "| 3456             | 3m 16s       | 38.25%           |"
      ]
     },
     "metadata": {},
     "output_type": "display_data"
    },
    {
     "data": {
      "text/html": [
       "<pre>| 3520             | 3m 20s       | 39%              |</pre>"
      ],
      "text/plain": [
       "| 3520             | 3m 20s       | 39%              |"
      ]
     },
     "metadata": {},
     "output_type": "display_data"
    },
    {
     "data": {
      "text/html": [
       "<pre>| 3584             | 3m 24s       | 39.5%            |</pre>"
      ],
      "text/plain": [
       "| 3584             | 3m 24s       | 39.5%            |"
      ]
     },
     "metadata": {},
     "output_type": "display_data"
    },
    {
     "data": {
      "text/html": [
       "<pre>| 3648             | 3m 27s       | 40.25%           |</pre>"
      ],
      "text/plain": [
       "| 3648             | 3m 27s       | 40.25%           |"
      ]
     },
     "metadata": {},
     "output_type": "display_data"
    },
    {
     "data": {
      "text/html": [
       "<pre>| 3712             | 3m 31s       | 41%              |</pre>"
      ],
      "text/plain": [
       "| 3712             | 3m 31s       | 41%              |"
      ]
     },
     "metadata": {},
     "output_type": "display_data"
    },
    {
     "data": {
      "text/html": [
       "<pre>| 3776             | 3m 34s       | 41.75%           |</pre>"
      ],
      "text/plain": [
       "| 3776             | 3m 34s       | 41.75%           |"
      ]
     },
     "metadata": {},
     "output_type": "display_data"
    },
    {
     "data": {
      "text/html": [
       "<pre>| 3840             | 3m 38s       | 42.5%            |</pre>"
      ],
      "text/plain": [
       "| 3840             | 3m 38s       | 42.5%            |"
      ]
     },
     "metadata": {},
     "output_type": "display_data"
    },
    {
     "data": {
      "text/html": [
       "<pre>| 3904             | 3m 42s       | 43.25%           |</pre>"
      ],
      "text/plain": [
       "| 3904             | 3m 42s       | 43.25%           |"
      ]
     },
     "metadata": {},
     "output_type": "display_data"
    },
    {
     "data": {
      "text/html": [
       "<pre>| 3968             | 3m 45s       | 43.75%           |</pre>"
      ],
      "text/plain": [
       "| 3968             | 3m 45s       | 43.75%           |"
      ]
     },
     "metadata": {},
     "output_type": "display_data"
    },
    {
     "data": {
      "text/html": [
       "<pre>| 4032             | 3m 49s       | 44.5%            |</pre>"
      ],
      "text/plain": [
       "| 4032             | 3m 49s       | 44.5%            |"
      ]
     },
     "metadata": {},
     "output_type": "display_data"
    },
    {
     "data": {
      "text/html": [
       "<pre>| 4096             | 3m 53s       | 45.25%           |</pre>"
      ],
      "text/plain": [
       "| 4096             | 3m 53s       | 45.25%           |"
      ]
     },
     "metadata": {},
     "output_type": "display_data"
    },
    {
     "data": {
      "text/html": [
       "<pre>| 4160             | 3m 56s       | 46%              |</pre>"
      ],
      "text/plain": [
       "| 4160             | 3m 56s       | 46%              |"
      ]
     },
     "metadata": {},
     "output_type": "display_data"
    },
    {
     "data": {
      "text/html": [
       "<pre>| 4224             | 4m 0s        | 46.75%           |</pre>"
      ],
      "text/plain": [
       "| 4224             | 4m 0s        | 46.75%           |"
      ]
     },
     "metadata": {},
     "output_type": "display_data"
    },
    {
     "data": {
      "text/html": [
       "<pre>| 4288             | 4m 3s        | 47.5%            |</pre>"
      ],
      "text/plain": [
       "| 4288             | 4m 3s        | 47.5%            |"
      ]
     },
     "metadata": {},
     "output_type": "display_data"
    },
    {
     "data": {
      "text/html": [
       "<pre>| 4352             | 4m 7s        | 48%              |</pre>"
      ],
      "text/plain": [
       "| 4352             | 4m 7s        | 48%              |"
      ]
     },
     "metadata": {},
     "output_type": "display_data"
    },
    {
     "data": {
      "text/html": [
       "<pre>| 4416             | 4m 11s       | 48.75%           |</pre>"
      ],
      "text/plain": [
       "| 4416             | 4m 11s       | 48.75%           |"
      ]
     },
     "metadata": {},
     "output_type": "display_data"
    },
    {
     "data": {
      "text/html": [
       "<pre>| 4480             | 4m 14s       | 49.5%            |</pre>"
      ],
      "text/plain": [
       "| 4480             | 4m 14s       | 49.5%            |"
      ]
     },
     "metadata": {},
     "output_type": "display_data"
    },
    {
     "data": {
      "text/html": [
       "<pre>| 4544             | 4m 18s       | 50.25%           |</pre>"
      ],
      "text/plain": [
       "| 4544             | 4m 18s       | 50.25%           |"
      ]
     },
     "metadata": {},
     "output_type": "display_data"
    },
    {
     "data": {
      "text/html": [
       "<pre>| 4608             | 4m 21s       | 51%              |</pre>"
      ],
      "text/plain": [
       "| 4608             | 4m 21s       | 51%              |"
      ]
     },
     "metadata": {},
     "output_type": "display_data"
    },
    {
     "data": {
      "text/html": [
       "<pre>| 4672             | 4m 25s       | 51.75%           |</pre>"
      ],
      "text/plain": [
       "| 4672             | 4m 25s       | 51.75%           |"
      ]
     },
     "metadata": {},
     "output_type": "display_data"
    },
    {
     "data": {
      "text/html": [
       "<pre>| 4736             | 4m 29s       | 52.25%           |</pre>"
      ],
      "text/plain": [
       "| 4736             | 4m 29s       | 52.25%           |"
      ]
     },
     "metadata": {},
     "output_type": "display_data"
    },
    {
     "data": {
      "text/html": [
       "<pre>| 4800             | 4m 32s       | 53%              |</pre>"
      ],
      "text/plain": [
       "| 4800             | 4m 32s       | 53%              |"
      ]
     },
     "metadata": {},
     "output_type": "display_data"
    },
    {
     "data": {
      "text/html": [
       "<pre>| 4864             | 4m 36s       | 53.75%           |</pre>"
      ],
      "text/plain": [
       "| 4864             | 4m 36s       | 53.75%           |"
      ]
     },
     "metadata": {},
     "output_type": "display_data"
    },
    {
     "data": {
      "text/html": [
       "<pre>| 4928             | 4m 40s       | 54.5%            |</pre>"
      ],
      "text/plain": [
       "| 4928             | 4m 40s       | 54.5%            |"
      ]
     },
     "metadata": {},
     "output_type": "display_data"
    },
    {
     "data": {
      "text/html": [
       "<pre>| 4992             | 4m 43s       | 55.25%           |</pre>"
      ],
      "text/plain": [
       "| 4992             | 4m 43s       | 55.25%           |"
      ]
     },
     "metadata": {},
     "output_type": "display_data"
    },
    {
     "data": {
      "text/html": [
       "<pre>| 5056             | 4m 47s       | 56%              |</pre>"
      ],
      "text/plain": [
       "| 5056             | 4m 47s       | 56%              |"
      ]
     },
     "metadata": {},
     "output_type": "display_data"
    },
    {
     "data": {
      "text/html": [
       "<pre>| 5120             | 4m 50s       | 56.5%            |</pre>"
      ],
      "text/plain": [
       "| 5120             | 4m 50s       | 56.5%            |"
      ]
     },
     "metadata": {},
     "output_type": "display_data"
    },
    {
     "data": {
      "text/html": [
       "<pre>| 5184             | 4m 54s       | 57.25%           |</pre>"
      ],
      "text/plain": [
       "| 5184             | 4m 54s       | 57.25%           |"
      ]
     },
     "metadata": {},
     "output_type": "display_data"
    },
    {
     "data": {
      "text/html": [
       "<pre>| 5248             | 4m 58s       | 58%              |</pre>"
      ],
      "text/plain": [
       "| 5248             | 4m 58s       | 58%              |"
      ]
     },
     "metadata": {},
     "output_type": "display_data"
    },
    {
     "data": {
      "text/html": [
       "<pre>| 5312             | 5m 1s        | 58.75%           |</pre>"
      ],
      "text/plain": [
       "| 5312             | 5m 1s        | 58.75%           |"
      ]
     },
     "metadata": {},
     "output_type": "display_data"
    },
    {
     "data": {
      "text/html": [
       "<pre>| 5376             | 5m 5s        | 59.5%            |</pre>"
      ],
      "text/plain": [
       "| 5376             | 5m 5s        | 59.5%            |"
      ]
     },
     "metadata": {},
     "output_type": "display_data"
    },
    {
     "data": {
      "text/html": [
       "<pre>| 5440             | 5m 9s        | 60.25%           |</pre>"
      ],
      "text/plain": [
       "| 5440             | 5m 9s        | 60.25%           |"
      ]
     },
     "metadata": {},
     "output_type": "display_data"
    },
    {
     "data": {
      "text/html": [
       "<pre>| 5504             | 5m 12s       | 60.75%           |</pre>"
      ],
      "text/plain": [
       "| 5504             | 5m 12s       | 60.75%           |"
      ]
     },
     "metadata": {},
     "output_type": "display_data"
    },
    {
     "data": {
      "text/html": [
       "<pre>| 5568             | 5m 16s       | 61.5%            |</pre>"
      ],
      "text/plain": [
       "| 5568             | 5m 16s       | 61.5%            |"
      ]
     },
     "metadata": {},
     "output_type": "display_data"
    },
    {
     "data": {
      "text/html": [
       "<pre>| 5632             | 5m 19s       | 62.25%           |</pre>"
      ],
      "text/plain": [
       "| 5632             | 5m 19s       | 62.25%           |"
      ]
     },
     "metadata": {},
     "output_type": "display_data"
    },
    {
     "data": {
      "text/html": [
       "<pre>| 5696             | 5m 23s       | 63%              |</pre>"
      ],
      "text/plain": [
       "| 5696             | 5m 23s       | 63%              |"
      ]
     },
     "metadata": {},
     "output_type": "display_data"
    },
    {
     "data": {
      "text/html": [
       "<pre>| 5760             | 5m 27s       | 63.75%           |</pre>"
      ],
      "text/plain": [
       "| 5760             | 5m 27s       | 63.75%           |"
      ]
     },
     "metadata": {},
     "output_type": "display_data"
    },
    {
     "data": {
      "text/html": [
       "<pre>| 5824             | 5m 30s       | 64.5%            |</pre>"
      ],
      "text/plain": [
       "| 5824             | 5m 30s       | 64.5%            |"
      ]
     },
     "metadata": {},
     "output_type": "display_data"
    },
    {
     "data": {
      "text/html": [
       "<pre>| 5888             | 5m 34s       | 65%              |</pre>"
      ],
      "text/plain": [
       "| 5888             | 5m 34s       | 65%              |"
      ]
     },
     "metadata": {},
     "output_type": "display_data"
    },
    {
     "data": {
      "text/html": [
       "<pre>| 5952             | 5m 38s       | 65.75%           |</pre>"
      ],
      "text/plain": [
       "| 5952             | 5m 38s       | 65.75%           |"
      ]
     },
     "metadata": {},
     "output_type": "display_data"
    },
    {
     "data": {
      "text/html": [
       "<pre>| 6016             | 5m 41s       | 66.5%            |</pre>"
      ],
      "text/plain": [
       "| 6016             | 5m 41s       | 66.5%            |"
      ]
     },
     "metadata": {},
     "output_type": "display_data"
    },
    {
     "data": {
      "text/html": [
       "<pre>| 6080             | 5m 45s       | 67.25%           |</pre>"
      ],
      "text/plain": [
       "| 6080             | 5m 45s       | 67.25%           |"
      ]
     },
     "metadata": {},
     "output_type": "display_data"
    },
    {
     "data": {
      "text/html": [
       "<pre>| 6144             | 5m 48s       | 68%              |</pre>"
      ],
      "text/plain": [
       "| 6144             | 5m 48s       | 68%              |"
      ]
     },
     "metadata": {},
     "output_type": "display_data"
    },
    {
     "data": {
      "text/html": [
       "<pre>| 6208             | 5m 52s       | 68.75%           |</pre>"
      ],
      "text/plain": [
       "| 6208             | 5m 52s       | 68.75%           |"
      ]
     },
     "metadata": {},
     "output_type": "display_data"
    },
    {
     "data": {
      "text/html": [
       "<pre>| 6272             | 5m 56s       | 69.5%            |</pre>"
      ],
      "text/plain": [
       "| 6272             | 5m 56s       | 69.5%            |"
      ]
     },
     "metadata": {},
     "output_type": "display_data"
    },
    {
     "data": {
      "text/html": [
       "<pre>| 6336             | 5m 59s       | 70%              |</pre>"
      ],
      "text/plain": [
       "| 6336             | 5m 59s       | 70%              |"
      ]
     },
     "metadata": {},
     "output_type": "display_data"
    },
    {
     "data": {
      "text/html": [
       "<pre>| 6400             | 6m 3s        | 70.75%           |</pre>"
      ],
      "text/plain": [
       "| 6400             | 6m 3s        | 70.75%           |"
      ]
     },
     "metadata": {},
     "output_type": "display_data"
    },
    {
     "data": {
      "text/html": [
       "<pre>| 6464             | 6m 6s        | 71.5%            |</pre>"
      ],
      "text/plain": [
       "| 6464             | 6m 6s        | 71.5%            |"
      ]
     },
     "metadata": {},
     "output_type": "display_data"
    },
    {
     "data": {
      "text/html": [
       "<pre>| 6528             | 6m 10s       | 72.25%           |</pre>"
      ],
      "text/plain": [
       "| 6528             | 6m 10s       | 72.25%           |"
      ]
     },
     "metadata": {},
     "output_type": "display_data"
    },
    {
     "data": {
      "text/html": [
       "<pre>| 6592             | 6m 14s       | 73%              |</pre>"
      ],
      "text/plain": [
       "| 6592             | 6m 14s       | 73%              |"
      ]
     },
     "metadata": {},
     "output_type": "display_data"
    },
    {
     "data": {
      "text/html": [
       "<pre>| 6656             | 6m 17s       | 73.75%           |</pre>"
      ],
      "text/plain": [
       "| 6656             | 6m 17s       | 73.75%           |"
      ]
     },
     "metadata": {},
     "output_type": "display_data"
    },
    {
     "data": {
      "text/html": [
       "<pre>| 6720             | 6m 21s       | 74.25%           |</pre>"
      ],
      "text/plain": [
       "| 6720             | 6m 21s       | 74.25%           |"
      ]
     },
     "metadata": {},
     "output_type": "display_data"
    },
    {
     "data": {
      "text/html": [
       "<pre>| 6784             | 6m 25s       | 75%              |</pre>"
      ],
      "text/plain": [
       "| 6784             | 6m 25s       | 75%              |"
      ]
     },
     "metadata": {},
     "output_type": "display_data"
    },
    {
     "data": {
      "text/html": [
       "<pre>| 6848             | 6m 28s       | 75.75%           |</pre>"
      ],
      "text/plain": [
       "| 6848             | 6m 28s       | 75.75%           |"
      ]
     },
     "metadata": {},
     "output_type": "display_data"
    },
    {
     "data": {
      "text/html": [
       "<pre>| 6912             | 6m 32s       | 76.5%            |</pre>"
      ],
      "text/plain": [
       "| 6912             | 6m 32s       | 76.5%            |"
      ]
     },
     "metadata": {},
     "output_type": "display_data"
    },
    {
     "data": {
      "text/html": [
       "<pre>| 6976             | 6m 35s       | 77.25%           |</pre>"
      ],
      "text/plain": [
       "| 6976             | 6m 35s       | 77.25%           |"
      ]
     },
     "metadata": {},
     "output_type": "display_data"
    },
    {
     "data": {
      "text/html": [
       "<pre>| 7040             | 6m 39s       | 78%              |</pre>"
      ],
      "text/plain": [
       "| 7040             | 6m 39s       | 78%              |"
      ]
     },
     "metadata": {},
     "output_type": "display_data"
    },
    {
     "data": {
      "text/html": [
       "<pre>| 7104             | 6m 43s       | 78.5%            |</pre>"
      ],
      "text/plain": [
       "| 7104             | 6m 43s       | 78.5%            |"
      ]
     },
     "metadata": {},
     "output_type": "display_data"
    },
    {
     "data": {
      "text/html": [
       "<pre>| 7168             | 6m 46s       | 79.25%           |</pre>"
      ],
      "text/plain": [
       "| 7168             | 6m 46s       | 79.25%           |"
      ]
     },
     "metadata": {},
     "output_type": "display_data"
    },
    {
     "data": {
      "text/html": [
       "<pre>| 7232             | 6m 50s       | 80%              |</pre>"
      ],
      "text/plain": [
       "| 7232             | 6m 50s       | 80%              |"
      ]
     },
     "metadata": {},
     "output_type": "display_data"
    },
    {
     "data": {
      "text/html": [
       "<pre>| 7296             | 6m 53s       | 80.75%           |</pre>"
      ],
      "text/plain": [
       "| 7296             | 6m 53s       | 80.75%           |"
      ]
     },
     "metadata": {},
     "output_type": "display_data"
    },
    {
     "data": {
      "text/html": [
       "<pre>| 7360             | 6m 57s       | 81.5%            |</pre>"
      ],
      "text/plain": [
       "| 7360             | 6m 57s       | 81.5%            |"
      ]
     },
     "metadata": {},
     "output_type": "display_data"
    },
    {
     "data": {
      "text/html": [
       "<pre>| 7424             | 7m 1s        | 82.25%           |</pre>"
      ],
      "text/plain": [
       "| 7424             | 7m 1s        | 82.25%           |"
      ]
     },
     "metadata": {},
     "output_type": "display_data"
    },
    {
     "data": {
      "text/html": [
       "<pre>| 7488             | 7m 4s        | 82.75%           |</pre>"
      ],
      "text/plain": [
       "| 7488             | 7m 4s        | 82.75%           |"
      ]
     },
     "metadata": {},
     "output_type": "display_data"
    },
    {
     "data": {
      "text/html": [
       "<pre>| 7552             | 7m 8s        | 83.5%            |</pre>"
      ],
      "text/plain": [
       "| 7552             | 7m 8s        | 83.5%            |"
      ]
     },
     "metadata": {},
     "output_type": "display_data"
    },
    {
     "data": {
      "text/html": [
       "<pre>| 7616             | 7m 12s       | 84.25%           |</pre>"
      ],
      "text/plain": [
       "| 7616             | 7m 12s       | 84.25%           |"
      ]
     },
     "metadata": {},
     "output_type": "display_data"
    },
    {
     "data": {
      "text/html": [
       "<pre>| 7680             | 7m 15s       | 85%              |</pre>"
      ],
      "text/plain": [
       "| 7680             | 7m 15s       | 85%              |"
      ]
     },
     "metadata": {},
     "output_type": "display_data"
    },
    {
     "data": {
      "text/html": [
       "<pre>| 7744             | 7m 19s       | 85.75%           |</pre>"
      ],
      "text/plain": [
       "| 7744             | 7m 19s       | 85.75%           |"
      ]
     },
     "metadata": {},
     "output_type": "display_data"
    },
    {
     "data": {
      "text/html": [
       "<pre>| 7808             | 7m 22s       | 86.5%            |</pre>"
      ],
      "text/plain": [
       "| 7808             | 7m 22s       | 86.5%            |"
      ]
     },
     "metadata": {},
     "output_type": "display_data"
    },
    {
     "data": {
      "text/html": [
       "<pre>| 7872             | 7m 26s       | 87%              |</pre>"
      ],
      "text/plain": [
       "| 7872             | 7m 26s       | 87%              |"
      ]
     },
     "metadata": {},
     "output_type": "display_data"
    },
    {
     "data": {
      "text/html": [
       "<pre>| 7936             | 7m 30s       | 87.75%           |</pre>"
      ],
      "text/plain": [
       "| 7936             | 7m 30s       | 87.75%           |"
      ]
     },
     "metadata": {},
     "output_type": "display_data"
    },
    {
     "data": {
      "text/html": [
       "<pre>| 8000             | 7m 33s       | 88.5%            |</pre>"
      ],
      "text/plain": [
       "| 8000             | 7m 33s       | 88.5%            |"
      ]
     },
     "metadata": {},
     "output_type": "display_data"
    },
    {
     "data": {
      "text/html": [
       "<pre>| 8064             | 7m 37s       | 89.25%           |</pre>"
      ],
      "text/plain": [
       "| 8064             | 7m 37s       | 89.25%           |"
      ]
     },
     "metadata": {},
     "output_type": "display_data"
    },
    {
     "data": {
      "text/html": [
       "<pre>| 8128             | 7m 41s       | 90%              |</pre>"
      ],
      "text/plain": [
       "| 8128             | 7m 41s       | 90%              |"
      ]
     },
     "metadata": {},
     "output_type": "display_data"
    },
    {
     "data": {
      "text/html": [
       "<pre>| 8192             | 7m 44s       | 90.75%           |</pre>"
      ],
      "text/plain": [
       "| 8192             | 7m 44s       | 90.75%           |"
      ]
     },
     "metadata": {},
     "output_type": "display_data"
    },
    {
     "data": {
      "text/html": [
       "<pre>| 8256             | 7m 48s       | 91.25%           |</pre>"
      ],
      "text/plain": [
       "| 8256             | 7m 48s       | 91.25%           |"
      ]
     },
     "metadata": {},
     "output_type": "display_data"
    },
    {
     "data": {
      "text/html": [
       "<pre>| 8320             | 7m 51s       | 92%              |</pre>"
      ],
      "text/plain": [
       "| 8320             | 7m 51s       | 92%              |"
      ]
     },
     "metadata": {},
     "output_type": "display_data"
    },
    {
     "data": {
      "text/html": [
       "<pre>| 8384             | 7m 55s       | 92.75%           |</pre>"
      ],
      "text/plain": [
       "| 8384             | 7m 55s       | 92.75%           |"
      ]
     },
     "metadata": {},
     "output_type": "display_data"
    },
    {
     "data": {
      "text/html": [
       "<pre>| 8448             | 7m 59s       | 93.5%            |</pre>"
      ],
      "text/plain": [
       "| 8448             | 7m 59s       | 93.5%            |"
      ]
     },
     "metadata": {},
     "output_type": "display_data"
    },
    {
     "data": {
      "text/html": [
       "<pre>| 8512             | 8m 2s        | 94.25%           |</pre>"
      ],
      "text/plain": [
       "| 8512             | 8m 2s        | 94.25%           |"
      ]
     },
     "metadata": {},
     "output_type": "display_data"
    },
    {
     "data": {
      "text/html": [
       "<pre>| 8576             | 8m 6s        | 95%              |</pre>"
      ],
      "text/plain": [
       "| 8576             | 8m 6s        | 95%              |"
      ]
     },
     "metadata": {},
     "output_type": "display_data"
    },
    {
     "data": {
      "text/html": [
       "<pre>| 8640             | 8m 9s        | 95.5%            |</pre>"
      ],
      "text/plain": [
       "| 8640             | 8m 9s        | 95.5%            |"
      ]
     },
     "metadata": {},
     "output_type": "display_data"
    },
    {
     "data": {
      "text/html": [
       "<pre>| 8704             | 8m 13s       | 96.25%           |</pre>"
      ],
      "text/plain": [
       "| 8704             | 8m 13s       | 96.25%           |"
      ]
     },
     "metadata": {},
     "output_type": "display_data"
    },
    {
     "data": {
      "text/html": [
       "<pre>| 8768             | 8m 17s       | 97%              |</pre>"
      ],
      "text/plain": [
       "| 8768             | 8m 17s       | 97%              |"
      ]
     },
     "metadata": {},
     "output_type": "display_data"
    },
    {
     "data": {
      "text/html": [
       "<pre>| 8832             | 8m 19s       | 97.75%           |</pre>"
      ],
      "text/plain": [
       "| 8832             | 8m 19s       | 97.75%           |"
      ]
     },
     "metadata": {},
     "output_type": "display_data"
    },
    {
     "data": {
      "text/html": [
       "<pre>| 8896             | 8m 22s       | 98.5%            |</pre>"
      ],
      "text/plain": [
       "| 8896             | 8m 22s       | 98.5%            |"
      ]
     },
     "metadata": {},
     "output_type": "display_data"
    },
    {
     "data": {
      "text/html": [
       "<pre>| 8960             | 8m 26s       | 99.25%           |</pre>"
      ],
      "text/plain": [
       "| 8960             | 8m 26s       | 99.25%           |"
      ]
     },
     "metadata": {},
     "output_type": "display_data"
    },
    {
     "data": {
      "text/html": [
       "<pre>| 8993             | 8m 29s       | 100%             |</pre>"
      ],
      "text/plain": [
       "| 8993             | 8m 29s       | 100%             |"
      ]
     },
     "metadata": {},
     "output_type": "display_data"
    },
    {
     "data": {
      "text/html": [
       "<pre>+------------------+--------------+------------------+</pre>"
      ],
      "text/plain": [
       "+------------------+--------------+------------------+"
      ]
     },
     "metadata": {},
     "output_type": "display_data"
    },
    {
     "name": "stdout",
     "output_type": "stream",
     "text": [
      "PROGRESS: Creating a validation set from 5 percent of training data. This may take a while.\n",
      "          You can set ``validation_set=None`` to disable validation tracking.\n",
      "\n"
     ]
    },
    {
     "data": {
      "text/html": [
       "<pre>Logistic regression:</pre>"
      ],
      "text/plain": [
       "Logistic regression:"
      ]
     },
     "metadata": {},
     "output_type": "display_data"
    },
    {
     "data": {
      "text/html": [
       "<pre>--------------------------------------------------------</pre>"
      ],
      "text/plain": [
       "--------------------------------------------------------"
      ]
     },
     "metadata": {},
     "output_type": "display_data"
    },
    {
     "data": {
      "text/html": [
       "<pre>Number of examples          : 8543</pre>"
      ],
      "text/plain": [
       "Number of examples          : 8543"
      ]
     },
     "metadata": {},
     "output_type": "display_data"
    },
    {
     "data": {
      "text/html": [
       "<pre>Number of classes           : 2</pre>"
      ],
      "text/plain": [
       "Number of classes           : 2"
      ]
     },
     "metadata": {},
     "output_type": "display_data"
    },
    {
     "data": {
      "text/html": [
       "<pre>Number of feature columns   : 1</pre>"
      ],
      "text/plain": [
       "Number of feature columns   : 1"
      ]
     },
     "metadata": {},
     "output_type": "display_data"
    },
    {
     "data": {
      "text/html": [
       "<pre>Number of unpacked features : 2048</pre>"
      ],
      "text/plain": [
       "Number of unpacked features : 2048"
      ]
     },
     "metadata": {},
     "output_type": "display_data"
    },
    {
     "data": {
      "text/html": [
       "<pre>Number of coefficients      : 2049</pre>"
      ],
      "text/plain": [
       "Number of coefficients      : 2049"
      ]
     },
     "metadata": {},
     "output_type": "display_data"
    },
    {
     "data": {
      "text/html": [
       "<pre>Starting L-BFGS</pre>"
      ],
      "text/plain": [
       "Starting L-BFGS"
      ]
     },
     "metadata": {},
     "output_type": "display_data"
    },
    {
     "data": {
      "text/html": [
       "<pre>--------------------------------------------------------</pre>"
      ],
      "text/plain": [
       "--------------------------------------------------------"
      ]
     },
     "metadata": {},
     "output_type": "display_data"
    },
    {
     "data": {
      "text/html": [
       "<pre>+-----------+----------+-----------+--------------+-------------------+---------------------+</pre>"
      ],
      "text/plain": [
       "+-----------+----------+-----------+--------------+-------------------+---------------------+"
      ]
     },
     "metadata": {},
     "output_type": "display_data"
    },
    {
     "data": {
      "text/html": [
       "<pre>| Iteration | Passes   | Step size | Elapsed Time | Training Accuracy | Validation Accuracy |</pre>"
      ],
      "text/plain": [
       "| Iteration | Passes   | Step size | Elapsed Time | Training Accuracy | Validation Accuracy |"
      ]
     },
     "metadata": {},
     "output_type": "display_data"
    },
    {
     "data": {
      "text/html": [
       "<pre>+-----------+----------+-----------+--------------+-------------------+---------------------+</pre>"
      ],
      "text/plain": [
       "+-----------+----------+-----------+--------------+-------------------+---------------------+"
      ]
     },
     "metadata": {},
     "output_type": "display_data"
    },
    {
     "data": {
      "text/html": [
       "<pre>| 0         | 5        | 0.082050  | 1.428527     | 0.699520          | 0.675556            |</pre>"
      ],
      "text/plain": [
       "| 0         | 5        | 0.082050  | 1.428527     | 0.699520          | 0.675556            |"
      ]
     },
     "metadata": {},
     "output_type": "display_data"
    },
    {
     "data": {
      "text/html": [
       "<pre>| 1         | 8        | 0.410251  | 2.535075     | 0.902142          | 0.902222            |</pre>"
      ],
      "text/plain": [
       "| 1         | 8        | 0.410251  | 2.535075     | 0.902142          | 0.902222            |"
      ]
     },
     "metadata": {},
     "output_type": "display_data"
    },
    {
     "data": {
      "text/html": [
       "<pre>| 2         | 9        | 0.512814  | 3.158488     | 0.912326          | 0.920000            |</pre>"
      ],
      "text/plain": [
       "| 2         | 9        | 0.512814  | 3.158488     | 0.912326          | 0.920000            |"
      ]
     },
     "metadata": {},
     "output_type": "display_data"
    },
    {
     "data": {
      "text/html": [
       "<pre>| 3         | 11       | 0.512814  | 4.045195     | 0.941941          | 0.944444            |</pre>"
      ],
      "text/plain": [
       "| 3         | 11       | 0.512814  | 4.045195     | 0.941941          | 0.944444            |"
      ]
     },
     "metadata": {},
     "output_type": "display_data"
    },
    {
     "data": {
      "text/html": [
       "<pre>| 4         | 12       | 0.641017  | 4.676730     | 0.964415          | 0.975556            |</pre>"
      ],
      "text/plain": [
       "| 4         | 12       | 0.641017  | 4.676730     | 0.964415          | 0.975556            |"
      ]
     },
     "metadata": {},
     "output_type": "display_data"
    },
    {
     "data": {
      "text/html": [
       "<pre>| 9         | 18       | 1.000000  | 8.002501     | 0.971439          | 0.962222            |</pre>"
      ],
      "text/plain": [
       "| 9         | 18       | 1.000000  | 8.002501     | 0.971439          | 0.962222            |"
      ]
     },
     "metadata": {},
     "output_type": "display_data"
    },
    {
     "data": {
      "text/html": [
       "<pre>+-----------+----------+-----------+--------------+-------------------+---------------------+</pre>"
      ],
      "text/plain": [
       "+-----------+----------+-----------+--------------+-------------------+---------------------+"
      ]
     },
     "metadata": {},
     "output_type": "display_data"
    },
    {
     "name": "stdout",
     "output_type": "stream",
     "text": [
      "Accuracy: 0.974231\n",
      "Precision: 0.522124 | Recall: 0.951613\n",
      "F1 score: 0.674286\n"
     ]
    }
   ],
   "source": [
    "# Load the data\n",
    "data =  tc.SFrame('star-galaxy.sframe')\n",
    "\n",
    "# Make a train-test split\n",
    "train_data, test_data = data.random_split(0.8)\n",
    "\n",
    "# Create the model\n",
    "model = tc.image_classifier.create(train_data, target='label', class_weights = 'auto')\n",
    "\n",
    "# Save predictions to an SArray\n",
    "predictions = model.predict(test_data)\n",
    "\n",
    "# Evaluate the model and print the results\n",
    "#metrics = model.evaluate(test_data)\n",
    "#print(metrics['accuracy'])\n",
    "accuracy = tc.evaluation.accuracy(test_data['label'], predictions)\n",
    "pr_score = tc.evaluation.precision(test_data['label'], predictions)\n",
    "rec_score = tc.evaluation.recall(test_data['label'], predictions)\n",
    "f1_score = tc.evaluation.f1_score(test_data['label'], predictions)\n",
    "print(\"Accuracy: %f\"%(accuracy))\n",
    "print(\"Precision: %f | Recall: %f\"%(pr_score, rec_score))\n",
    "print(\"F1 score: %f\"%(f1_score))\n",
    "\n",
    "# Save the model for later use in Turi Create\n",
    "model.save('star-galaxy.model')\n",
    "\n",
    "# Export for use in Core ML\n",
    "model.export_coreml('StarGalaxyClassifier.mlmodel')"
   ]
  },
  {
   "cell_type": "code",
   "execution_count": null,
   "metadata": {
    "scrolled": true
   },
   "outputs": [],
   "source": [
    "# Load images (Note:'Not a JPEG file' errors are warnings, meaning those files will be skipped)\n",
    "testing_data = tc.image_analysis.load_images('star_galaxy_testing_data', with_path=True)\n",
    "\n",
    "# From the path-name, create a label column\n",
    "testing_data['label'] = testing_data['path'].apply(lambda path: 'star' if '/stars' in path else 'galaxy')\n",
    "\n",
    "# Save the data for future use\n",
    "testing_data.save('star-galaxy-testing.sframe')\n",
    "\n",
    "# Load the data\n",
    "testing_data =  tc.SFrame('star-galaxy-testing.sframe')\n",
    "\n",
    "# Save predictions to an SArray\n",
    "testing_predictions = model.predict(testing_data)\n",
    "\n",
    "print(testing_data)\n",
    "print(testing_predictions)"
   ]
  }
 ],
 "metadata": {
  "kernelspec": {
   "display_name": "python3",
   "language": "python",
   "name": "python3"
  },
  "language_info": {
   "codemirror_mode": {
    "name": "ipython",
    "version": 2
   },
   "file_extension": ".py",
   "mimetype": "text/x-python",
   "name": "python",
   "nbconvert_exporter": "python",
   "pygments_lexer": "ipython2",
   "version": "2.7.16"
  }
 },
 "nbformat": 4,
 "nbformat_minor": 2
}
